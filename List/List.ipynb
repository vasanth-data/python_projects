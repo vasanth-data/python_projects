{
 "cells": [
  {
   "cell_type": "code",
   "execution_count": 4,
   "id": "ecdd5cf0",
   "metadata": {},
   "outputs": [
    {
     "name": "stdout",
     "output_type": "stream",
     "text": [
      "enter first_name,last_name,age: Mohit,Sharma,32\n",
      "first name is Mohit\n",
      "last name is Sharma\n",
      "Mohit is 32 years old\n"
     ]
    }
   ],
   "source": [
    "# write a program which takes single input from user contaning first name,last name and age as comma separated value \n",
    "\n",
    "info = input(\"enter first_name,last_name,age: \")\n",
    "info = info.split(\",\")                              # create a list using split method\n",
    "print(\"first name is \" + info[0])                   #index 0 is first_name\n",
    "print(\"last name is \" + info[1])                    # index 1 is last_name\n",
    "print(info[0] + \" is \" + info[2] + \" years old\")    #index 2 is age"
   ]
  },
  {
   "cell_type": "code",
   "execution_count": 12,
   "id": "4a694332",
   "metadata": {},
   "outputs": [
    {
     "name": "stdout",
     "output_type": "stream",
     "text": [
      "[1, 3, 4, 2, 4, 6]\n"
     ]
    }
   ],
   "source": [
    "# combined the 2 list and diplay the same without using extend method\n",
    "\n",
    "list1 = [1,3,4]\n",
    "list2 = [2,4,6]\n",
    "combined_list = list1 + list2\n",
    "print(combined_list)"
   ]
  },
  {
   "cell_type": "code",
   "execution_count": 22,
   "id": "3997b46f",
   "metadata": {},
   "outputs": [
    {
     "name": "stdout",
     "output_type": "stream",
     "text": [
      "[2, 4, 6, 8]\n"
     ]
    }
   ],
   "source": [
    "# diplay a new list which contains only odd position index values from list.\n",
    "\n",
    "# LIST SLICING\n",
    "\n",
    "list1=[1,2,3,4,5,6,7,8]\n",
    "\n",
    "# list1[1::2] is slice operation that starts from index 1 and takes every 2nd element thereafter\n",
    "list2 = list1[1::2]\n",
    "\n",
    "print(list2)"
   ]
  },
  {
   "cell_type": "code",
   "execution_count": 29,
   "id": "761107ab",
   "metadata": {},
   "outputs": [
    {
     "name": "stdout",
     "output_type": "stream",
     "text": [
      "enter team name: KKR\n",
      "['KKR', 'LSG', 'PBKS']\n"
     ]
    }
   ],
   "source": [
    "# take a ipl team name as input from user and display a list of all elements from that name.\n",
    "\n",
    "ipl= ['CSK','MI','KKR','LSG','PBKS']\n",
    "team_name = input(\"enter team name: \")\n",
    "if team_name in ipl:\n",
    "    starting_index = ipl.index(team_name) #find the index of the team name from ipl list\n",
    "    list_of_elements = ipl[starting_index:] #Slice the list from the index of the team name to the end\n",
    "    print(list_of_elements)\n",
    "else:\n",
    "    print(\"Team name is not in the list\")"
   ]
  },
  {
   "cell_type": "code",
   "execution_count": 34,
   "id": "1e35d6fa",
   "metadata": {},
   "outputs": [
    {
     "name": "stdout",
     "output_type": "stream",
     "text": [
      "enter team name: MI\n",
      "['CSK', 'KKR', 'LSG', 'PBKS']\n"
     ]
    }
   ],
   "source": [
    "# take a ipl team name as input from user and display a list of all elements except input one\n",
    "\n",
    "ipl1 = ['CSK','MI','KKR','LSG','PBKS']\n",
    "team_name = input(\"enter team name: \")\n",
    "if team_name in ipl1:\n",
    "    start_index = ipl1.index(team_name) # find the index of the element\n",
    "    ipl1.pop(start_index) #remove the element from the list\n",
    "    print(ipl1)\n",
    "else:\n",
    "    print(\"Team name is not in the list\")"
   ]
  },
  {
   "cell_type": "code",
   "execution_count": 38,
   "id": "f56de5a4",
   "metadata": {},
   "outputs": [
    {
     "name": "stdout",
     "output_type": "stream",
     "text": [
      "enter index,team : 3,GT\n",
      "['CSK', 'MI', 'KKR', 'GT', 'PBKS']\n"
     ]
    }
   ],
   "source": [
    "'''take a user input contains 2 comma seprated values index,new_team. \n",
    "replace the index element of list with new value and display the same'''\n",
    "\n",
    "ipl= ['CSK','MI','KKR','LSG','PBKS']\n",
    "values = input(\"enter index,team : \")\n",
    "input_list = values.split(\",\") #convert the input into list\n",
    "v1 = int(input_list[0]) #assign the index number into variable v1 also convert into integer\n",
    "v2 = input_list[1] #assign the new team name into variable v2\n",
    "ipl[v1] = v2 #replace the index value with the new team name\n",
    "print(ipl)\n"
   ]
  },
  {
   "cell_type": "code",
   "execution_count": 41,
   "id": "0140d5a2",
   "metadata": {},
   "outputs": [
    {
     "name": "stdout",
     "output_type": "stream",
     "text": [
      "enter team name: SRH\n"
     ]
    },
    {
     "data": {
      "text/plain": [
       "False"
      ]
     },
     "execution_count": 41,
     "metadata": {},
     "output_type": "execute_result"
    }
   ],
   "source": [
    "# take ipl team name as user input. display True if the team exists else display False.\n",
    "\n",
    "ipl= ['CSK','MI','KKR','LSG','PBKS']\n",
    "team_name = input(\"enter team name: \")\n",
    "team_name in ipl #check whether team name exists"
   ]
  },
  {
   "cell_type": "code",
   "execution_count": 52,
   "id": "54075368",
   "metadata": {},
   "outputs": [
    {
     "name": "stdout",
     "output_type": "stream",
     "text": [
      "Enter the index and new team separated by a comma (e.g., 2,RCB): 4,GT\n",
      "Old list: ['CSK', 'MI', 'KKR', 'LSG', 'PBKS'] and length 5\n",
      "New list: ['CSK', 'MI', 'KKR', 'LSG', 'GT', 'PBKS'] and length 6\n"
     ]
    }
   ],
   "source": [
    "'''take a user input contains 2 comma seprated values index,new_team . Add the new value at that index in the list. \n",
    "Display the old list , new list,length of original and new list'''\n",
    "\n",
    "ipl = ['CSK', 'MI', 'KKR', 'LSG', 'PBKS']\n",
    "\n",
    "# Take input from the user\n",
    "new_team = input(\"Enter the index and new team separated by a comma (e.g., 2,RCB): \")\n",
    "\n",
    "# Split the input to get the index and the new team name\n",
    "n1 = new_team.split(\",\")\n",
    "\n",
    "# Create a copy of the original list\n",
    "ipl_copy = ipl.copy()\n",
    "\n",
    "# Insert the new team at the specified index\n",
    "ipl_copy.insert(int(n1[0]), n1[1])\n",
    "\n",
    "# Display the old list, new list, and their lengths\n",
    "print(\"Old list:\", ipl, \"and length\", len(ipl))\n",
    "print(\"New list:\", ipl_copy, \"and length\", len(ipl_copy))\n"
   ]
  },
  {
   "cell_type": "code",
   "execution_count": null,
   "id": "4a62caab",
   "metadata": {},
   "outputs": [],
   "source": []
  }
 ],
 "metadata": {
  "kernelspec": {
   "display_name": "Python 3 (ipykernel)",
   "language": "python",
   "name": "python3"
  },
  "language_info": {
   "codemirror_mode": {
    "name": "ipython",
    "version": 3
   },
   "file_extension": ".py",
   "mimetype": "text/x-python",
   "name": "python",
   "nbconvert_exporter": "python",
   "pygments_lexer": "ipython3",
   "version": "3.9.13"
  }
 },
 "nbformat": 4,
 "nbformat_minor": 5
}
