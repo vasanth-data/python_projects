{
 "cells": [
  {
   "cell_type": "code",
   "execution_count": 11,
   "id": "08f8771d",
   "metadata": {},
   "outputs": [
    {
     "name": "stdout",
     "output_type": "stream",
     "text": [
      "enter your weight(kg): 62\n",
      "enter your height(meter): 1.77\n",
      "Your weight is 62.0 and your height is 1.77\n",
      "Your BMI is 19.79\n"
     ]
    }
   ],
   "source": [
    "# write a program which takes 2 inputs from the user : weight(kg) and height(meter) and prints the BMI in the output.\n",
    "\n",
    "weight = float(input(\"enter your weight(kg): \"))\n",
    "height = float(input(\"enter your height(meter): \"))\n",
    "print(f\"Your weight is {weight} and your height is {height}\")\n",
    "BMI = weight / (height ** 2)\n",
    "print(f\"Your BMI is {BMI:.2f}\") "
   ]
  },
  {
   "cell_type": "code",
   "execution_count": 15,
   "id": "5d5e3f97",
   "metadata": {},
   "outputs": [
    {
     "name": "stdout",
     "output_type": "stream",
     "text": [
      "enter your name:vasanth\n",
      "vbsbnth\n"
     ]
    }
   ],
   "source": [
    "# write a program which takes the name of the user as input and replace all the occurence of \n",
    "# character 'a' in the name to 'b' and print it.\n",
    "\n",
    "name = input(\"enter your name:\")\n",
    "x = name.replace(\"a\",\"b\")\n",
    "print(x)\n"
   ]
  },
  {
   "cell_type": "code",
   "execution_count": 22,
   "id": "ef8765e3",
   "metadata": {},
   "outputs": [
    {
     "name": "stdout",
     "output_type": "stream",
     "text": [
      "enter the principle amount: 100000\n",
      "enter the rate of annual interest: 5\n",
      "enter the number of years: 2\n",
      "Total expected total amount after 2 years is 110250.00\n"
     ]
    }
   ],
   "source": [
    "# write a program which takes 2 inputs from user as principle amount (int) and \n",
    "# rate of annual interest (float) and print the expected total amount  after  2 years.\n",
    "\n",
    "principle = int(input(\"enter the principle amount: \"))\n",
    "rate_of_annual_interest = float(input(\"enter the rate of annual interest: \"))\n",
    "Period = int(input(\"enter the number of years: \"))\n",
    "Interest_rate = rate_of_annual_interest / 100\n",
    "Total_amount = principle * ((1+Interest_rate) ** Period)\n",
    "print(f\"Total expected total amount after {Period} years is {Total_amount:.2f}\")"
   ]
  },
  {
   "cell_type": "code",
   "execution_count": 24,
   "id": "a0c44386",
   "metadata": {},
   "outputs": [
    {
     "name": "stdout",
     "output_type": "stream",
     "text": [
      "enter city name: CHENNAI\n",
      "Chennai\n"
     ]
    }
   ],
   "source": [
    "'''write a program which takes city name from user input. irrespective of in which case user enters the city name, \n",
    "print the city name in camel case meaning first letter should be capital and rest in small.'''\n",
    "\n",
    "city = input(\"enter city name: \")\n",
    "city = city.capitalize()\n",
    "print(city)"
   ]
  },
  {
   "cell_type": "code",
   "execution_count": 29,
   "id": "b9c7d621",
   "metadata": {},
   "outputs": [
    {
     "name": "stdout",
     "output_type": "stream",
     "text": [
      "enter the name: teddy\n",
      "Index of character a: -1\n"
     ]
    }
   ],
   "source": [
    "'''write a program which takes the name of the user as input and print the index of character 'a' in the string. \n",
    "if 'a' is not there then return -1.'''\n",
    "\n",
    "name = input(\"enter the name: \")\n",
    "name = name.find(\"a\")\n",
    "print(f\"Index of character a: {name}\")"
   ]
  },
  {
   "cell_type": "code",
   "execution_count": 31,
   "id": "e2b0a59d",
   "metadata": {},
   "outputs": [
    {
     "name": "stdout",
     "output_type": "stream",
     "text": [
      "28\n"
     ]
    }
   ],
   "source": [
    "# Display the number of letters in the below string\n",
    "\n",
    "my_word = \"antidisestablishmentarianism\"\n",
    "print(len(my_word))"
   ]
  },
  {
   "cell_type": "code",
   "execution_count": 36,
   "id": "ab57c7a5",
   "metadata": {},
   "outputs": [
    {
     "name": "stdout",
     "output_type": "stream",
     "text": [
      "enter your first_name: mohit\n",
      "enter your last_name: sharma\n",
      "enter your age: 32\n",
      "my name is Mohit Sharma and I am 32 years old.\n"
     ]
    }
   ],
   "source": [
    "# take 3 inputs from user : first name , last name and age \n",
    "\n",
    "first_name = input(\"enter your first_name: \").capitalize()\n",
    "last_name = input(\"enter your last_name: \").capitalize()\n",
    "age = int(input(\"enter your age: \"))\n",
    "print(f\"my name is {first_name} {last_name} and I am {age} years old.\")"
   ]
  },
  {
   "cell_type": "code",
   "execution_count": 40,
   "id": "df1f0087",
   "metadata": {},
   "outputs": [
    {
     "name": "stdout",
     "output_type": "stream",
     "text": [
      "enter first_name : RAHul\n",
      "enter last_name : DRavid\n",
      "enter company_name : AMAZON\n",
      "Your email id: ravid@amazon.com\n"
     ]
    }
   ],
   "source": [
    "'''take 3 inputs from user : first name , last name and company name. create the email alias for the user and display it.\n",
    "Email alias is first 2 letters of first name , last 3 letters of last name and @company.com'''\n",
    "\n",
    "first_name = input(\"enter first_name : \").lower()\n",
    "last_name = input(\"enter last_name : \").lower()\n",
    "company_name = input(\"enter company_name : \").lower()\n",
    "a = first_name[:2] + last_name[-3:]\n",
    "print(f\"Your email id: {a}@{company_name}.com\")\n"
   ]
  },
  {
   "cell_type": "code",
   "execution_count": null,
   "id": "0ae884f4",
   "metadata": {},
   "outputs": [],
   "source": []
  }
 ],
 "metadata": {
  "kernelspec": {
   "display_name": "Python 3 (ipykernel)",
   "language": "python",
   "name": "python3"
  },
  "language_info": {
   "codemirror_mode": {
    "name": "ipython",
    "version": 3
   },
   "file_extension": ".py",
   "mimetype": "text/x-python",
   "name": "python",
   "nbconvert_exporter": "python",
   "pygments_lexer": "ipython3",
   "version": "3.9.13"
  }
 },
 "nbformat": 4,
 "nbformat_minor": 5
}
